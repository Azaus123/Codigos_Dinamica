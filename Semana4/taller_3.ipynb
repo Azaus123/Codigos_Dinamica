{
 "cells": [
  {
   "cell_type": "code",
   "execution_count": 2,
   "id": "700d1f1d",
   "metadata": {},
   "outputs": [],
   "source": [
    "#Importar librerias\n",
    "import numpy as np\n",
    "import matplotlib.pyplot as plt\n",
    "import pandas as pd\n",
    "from matplotlib.animation import FuncAnimation\n",
    "from sympy import symbols, Matrix, pi,deg, cos, sin,atan, simplify, eye, solve, latex, atan2, pprint, init_printing, Derivative, sqrt\n",
    "from sympy.physics.mechanics import ReferenceFrame, dynamicsymbols, init_vprinting, Point\n",
    "from sklearn.metrics import mean_squared_error\n",
    "from scipy.integrate import cumulative_trapezoid"
   ]
  },
  {
   "cell_type": "markdown",
   "id": "a824b8a0",
   "metadata": {},
   "source": [
    "-----------------------------------------------------------------PUNTO 1---------------------------------------------------------"
   ]
  },
  {
   "cell_type": "code",
   "execution_count": 5,
   "id": "1b0c4edd",
   "metadata": {},
   "outputs": [
    {
     "data": {
      "text/latex": [
       "$\\displaystyle 4.0 \\sqrt{0.0625 l^{2} \\left(\\frac{d}{d t} \\theta{\\left(t \\right)}\\right)^{4} + 0.0625 l^{2} \\left(\\frac{d^{2}}{d t^{2}} \\theta{\\left(t \\right)}\\right)^{2} - 0.25 l r \\sin{\\left(\\theta{\\left(t \\right)} \\right)} \\left(\\frac{d}{d t} \\theta{\\left(t \\right)}\\right)^{2} \\frac{d^{2}}{d t^{2}} \\theta{\\left(t \\right)} + 0.5 l r \\cos{\\left(\\theta{\\left(t \\right)} \\right)} \\left(\\frac{d}{d t} \\theta{\\left(t \\right)}\\right)^{4} + 0.25 l r \\cos{\\left(\\theta{\\left(t \\right)} \\right)} \\left(\\frac{d^{2}}{d t^{2}} \\theta{\\left(t \\right)}\\right)^{2} + r^{2} \\left(\\frac{d}{d t} \\theta{\\left(t \\right)}\\right)^{4} + 0.25 r^{2} \\left(\\frac{d^{2}}{d t^{2}} \\theta{\\left(t \\right)}\\right)^{2}}$"
      ],
      "text/plain": [
       "4.0*sqrt(0.0625*l**2*Derivative(theta(t), t)**4 + 0.0625*l**2*Derivative(theta(t), (t, 2))**2 - 0.25*l*r*sin(theta(t))*Derivative(theta(t), t)**2*Derivative(theta(t), (t, 2)) + 0.5*l*r*cos(theta(t))*Derivative(theta(t), t)**4 + 0.25*l*r*cos(theta(t))*Derivative(theta(t), (t, 2))**2 + r**2*Derivative(theta(t), t)**4 + 0.25*r**2*Derivative(theta(t), (t, 2))**2)"
      ]
     },
     "execution_count": 5,
     "metadata": {},
     "output_type": "execute_result"
    }
   ],
   "source": [
    "#variables\n",
    "theta = dynamicsymbols(\"theta\") #creamos al angulo dinamico, con respecto al tiempo\n",
    "t = symbols(\"t\") #creamos el tiempo\n",
    "\n",
    "l = symbols(\"l\") #mm,creamos a la longitud L simbolica\n",
    "\n",
    "#marcos de referencia\n",
    "N_fijo = ReferenceFrame(\"N_fijo\")\n",
    "A_movil = N_fijo.orientnew(\"A_movil\", \"Axis\", (np.pi - theta, N_fijo.z)) #El angulo se mide desde el otro eje. Entonces en realidad el angulo es 180 - valor angulo\n",
    "\n",
    "\n",
    "#Ahora bien, hasta aqui solo hemos llegado a A\n",
    "#Necesitamos llegar a la punta de A, por lo que podemos crear otro marco de referencia\n",
    "#Este nuevo sistema, por la friccion rota igual que el A pero en sentido contrario\n",
    "\n",
    "B_movil = A_movil.orientnew(\"B_movil\", \"Axis\", (-theta, A_movil.z)) #va en sentido contrario al otro\n",
    "\n",
    "#Ahora si, ya podemos llegar a la punta:\n",
    "radio = symbols(\"r\") #mm\n",
    "vector_pos = (l)*A_movil.x + radio*B_movil.x #que depende del sistema A y del sistema B\n",
    "\n",
    "#Ahora bien, notamos que el vector de posicion que tenemos va a comportarse igual en terminos de aceleracion que el B, luego\n",
    "\n",
    "velocidad_vector_pos = vector_pos.diff(t,N_fijo)\n",
    "aceleracion_vector_pos = velocidad_vector_pos.diff(t, N_fijo)\n",
    "\n",
    "aceleracion_vector_pos.magnitude().simplify()\n"
   ]
  },
  {
   "cell_type": "code",
   "execution_count": null,
   "id": "f485ccdf",
   "metadata": {},
   "outputs": [
    {
     "data": {
      "text/latex": [
       "$\\displaystyle 1.62943180611531$"
      ],
      "text/plain": [
       "1.62943180611531"
      ]
     },
     "execution_count": 6,
     "metadata": {},
     "output_type": "execute_result"
    }
   ],
   "source": [
    "#Ahora para el problema en particular:\n",
    "aceleracion_vector_pos.subs({\n",
    "    theta: np.deg2rad(60),\n",
    "    theta.diff(t): -4, \n",
    "    theta.diff(t,2):-8,\n",
    "    l:0.080,\n",
    "    radio:0.020}).magnitude().simplify()"
   ]
  },
  {
   "cell_type": "markdown",
   "id": "b8f89e34",
   "metadata": {},
   "source": [
    "-----------------------------------------------------------------PUNTO 2---------------------------------------------------------"
   ]
  },
  {
   "cell_type": "code",
   "execution_count": 10,
   "id": "d8a21424",
   "metadata": {},
   "outputs": [
    {
     "data": {
      "text/latex": [
       "$\\displaystyle b\\mathbf{\\hat{eje_movil_d}_x} + x\\mathbf{\\hat{eje_fijo_o}_x}$"
      ],
      "text/plain": [
       "x*eje_fijo_O.x + b*eje_movil_D.x"
      ]
     },
     "execution_count": 10,
     "metadata": {},
     "output_type": "execute_result"
    }
   ],
   "source": [
    "#A. Describir la posicion de las barras con vectores\n",
    "#Podemos crear un eje fijo en O:\n",
    "#Ahora creamos al angulo y el tiempo\n",
    "eje_fijo_O = ReferenceFrame(\"eje_fijo_O\")\n",
    "theta = dynamicsymbols(\"theta\") #creamos al angulo dinamico, con respecto al tiempo\n",
    "t = symbols(\"t\") #creamos el tiempo\n",
    "#Podemos tener\n",
    "\n",
    "#Creamos la distancia entre deslizadores\n",
    "x = symbols(\"x\")\n",
    "#Creamos la longitud de las barras\n",
    "b = symbols(\"b\")\n",
    "\n",
    "#Creamos un marco de referencia movil para cada barra\n",
    "eje_movil_C = eje_fijo_O.orientnew(\"eje_movil_C\", \"Axis\", (theta, eje_fijo_O.z))   \n",
    "eje_movil_D = eje_fijo_O.orientnew(\"eje_movil_D\", \"Axis\", (np.pi -theta, eje_fijo_O.z)) #el angulo que mide C. El angulo de elevancion de C tambien es theta por el teorema del seno, solo que su angulo medido desde el eje Fijo es 180 - angulo\n",
    "#Creamos los vectores posicion\n",
    "vector_pos_O = b*eje_movil_C.x\n",
    "vector_pos_C = b*eje_movil_D.x + x*eje_fijo_O.x #recordemos que el deslizador C esta desplazado X unidades con respecto al marco de referencia fijo\n",
    "\n",
    "vector_pos_C"
   ]
  },
  {
   "cell_type": "code",
   "execution_count": 11,
   "id": "1e73755b",
   "metadata": {},
   "outputs": [
    {
     "data": {
      "text/latex": [
       "$\\displaystyle -  b \\sin{\\left(\\theta{\\left(t \\right)} - 3.14159265358979 \\right)} \\frac{d}{d t} \\theta{\\left(t \\right)}\\mathbf{\\hat{eje_fijo_o}_x} -  b \\cos{\\left(\\theta{\\left(t \\right)} - 3.14159265358979 \\right)} \\frac{d}{d t} \\theta{\\left(t \\right)}\\mathbf{\\hat{eje_fijo_o}_y}$"
      ],
      "text/plain": [
       "- b*sin(theta(t) - 3.14159265358979)*Derivative(theta(t), t)*eje_fijo_O.x - b*cos(theta(t) - 3.14159265358979)*Derivative(theta(t), t)*eje_fijo_O.y"
      ]
     },
     "execution_count": 11,
     "metadata": {},
     "output_type": "execute_result"
    }
   ],
   "source": [
    "#B\n",
    "velocidad_C = vector_pos_C.diff(t, eje_fijo_O).simplify()\n",
    "velocidad_C"
   ]
  },
  {
   "cell_type": "code",
   "execution_count": 12,
   "id": "7cc21452",
   "metadata": {},
   "outputs": [
    {
     "data": {
      "text/latex": [
       "$\\displaystyle b \\left(- \\sin{\\left(\\theta{\\left(t \\right)} - 3.14159265358979 \\right)} \\frac{d^{2}}{d t^{2}} \\theta{\\left(t \\right)} - \\cos{\\left(\\theta{\\left(t \\right)} - 3.14159265358979 \\right)} \\left(\\frac{d}{d t} \\theta{\\left(t \\right)}\\right)^{2}\\right)\\mathbf{\\hat{eje_fijo_o}_x} + b \\left(\\sin{\\left(\\theta{\\left(t \\right)} - 3.14159265358979 \\right)} \\left(\\frac{d}{d t} \\theta{\\left(t \\right)}\\right)^{2} - \\cos{\\left(\\theta{\\left(t \\right)} - 3.14159265358979 \\right)} \\frac{d^{2}}{d t^{2}} \\theta{\\left(t \\right)}\\right)\\mathbf{\\hat{eje_fijo_o}_y}$"
      ],
      "text/plain": [
       "b*(-sin(theta(t) - 3.14159265358979)*Derivative(theta(t), (t, 2)) - cos(theta(t) - 3.14159265358979)*Derivative(theta(t), t)**2)*eje_fijo_O.x + b*(sin(theta(t) - 3.14159265358979)*Derivative(theta(t), t)**2 - cos(theta(t) - 3.14159265358979)*Derivative(theta(t), (t, 2)))*eje_fijo_O.y"
      ]
     },
     "execution_count": 12,
     "metadata": {},
     "output_type": "execute_result"
    }
   ],
   "source": [
    "#C\n",
    "aceleracion_C = velocidad_C.diff(t, eje_fijo_O).simplify()\n",
    "aceleracion_C"
   ]
  },
  {
   "cell_type": "markdown",
   "id": "c8b24f51",
   "metadata": {},
   "source": [
    "-----------------------------------------------------------------PUNTO 3---------------------------------------------------------"
   ]
  },
  {
   "cell_type": "code",
   "execution_count": null,
   "id": "bb770c76",
   "metadata": {},
   "outputs": [
    {
     "data": {
      "text/latex": [
       "$\\displaystyle \\frac{b \\left(2 \\sin{\\left(\\theta{\\left(t \\right)} \\right)} \\left(\\frac{d}{d t} \\theta{\\left(t \\right)}\\right)^{2} + \\cos{\\left(\\theta{\\left(t \\right)} \\right)} \\frac{d^{2}}{d t^{2}} \\theta{\\left(t \\right)}\\right)}{\\cos^{3}{\\left(\\theta{\\left(t \\right)} \\right)}}\\mathbf{\\hat{fijo_3}_y}$"
      ],
      "text/plain": [
       "b*(2*sin(theta(t))*Derivative(theta(t), t)**2 + cos(theta(t))*Derivative(theta(t), (t, 2)))/cos(theta(t))**3*fijo_3.y"
      ]
     },
     "execution_count": 23,
     "metadata": {},
     "output_type": "execute_result"
    }
   ],
   "source": [
    "#Crear el marco de referencia fijo y el angulo y el tiempo\n",
    "fijo_3 = ReferenceFrame(\"fijo_3\")\n",
    "theta = dynamicsymbols(\"theta\") #creamos al angulo dinamico, con respecto al tiempo\n",
    "t = symbols(\"t\") #creamos el tiempo\n",
    "#Crear marco de referencia movil\n",
    "movil_3 = fijo_3.orientnew(\"movil_3\", \"Axis\", (theta, fijo_3.z))\n",
    "#Crear vector posicion hacia A\n",
    "b = symbols(\"b\")\n",
    "distancia_r = b/cos(theta)  #r cambia con respecto al angulo\n",
    "vector_pos_3 = distancia_r*movil_3.x\n",
    "#Crear vector desde el origen hasta la base de todo el objeto derecho\n",
    "vector_base = b*fijo_3.x\n",
    "\n",
    "#Crear vector de la altura y, el cual es la \n",
    "#Podemos hacer una suma de todos: \n",
    "#Vector de OA + Vector A al piso + Vector del piso a O = 0\n",
    "#Luego Vector A al piso (y) = -vector OA (vector_pos_3) - vector del piso a O (vector_base)\n",
    "vector_altura_y = vector_pos_3 - vector_base\n",
    "\n",
    "#Derivar para obtener la velocidad\n",
    "vector_velocidad_y = vector_altura_y.diff(t, fijo_3)\n",
    "#Derivar otra vez para obtener aceleracion\n",
    "vector_aceleracion_y = vector_velocidad_y.diff(t, fijo_3)\n",
    "\n",
    "vector_aceleracion_y.simplify()"
   ]
  },
  {
   "cell_type": "markdown",
   "id": "c87a23f6",
   "metadata": {},
   "source": [
    "-----------------------------------------------------------------PUNTO 4---------------------------------------------------------"
   ]
  },
  {
   "cell_type": "code",
   "execution_count": null,
   "id": "c530b566",
   "metadata": {},
   "outputs": [],
   "source": [
    "#Definir el volumen\n",
    "hc = symbols(\"hc\")\n",
    "r_inicial = symbols(\"r_0\")\n",
    "diferencia_r = symbols(\"delta_r\")\n",
    "volumen_inicial = (np.pi*(r_inicial**2)*hc)\n",
    "volumen_final = symbols(\"v_final\")\n",
    "\n",
    "cambio_tornillo = 1.25 #mm, por vuelta\n",
    "\n",
    "#Definir la cantidad de vueltas\n",
    "num_vueltas = diferencia_r*(1/cambio_tornillo)\n",
    "\n",
    "#Hallar el delta r\n",
    "ecuacion = Eq(diferencia_r**2 + diferencia_r*r_inicial + volumen_final- volumen_inicial, 0)\n",
    "solucion = solve(ecuacion, diferencia_r)\n",
    "print(solucion)"
   ]
  },
  {
   "cell_type": "code",
   "execution_count": null,
   "id": "33d1204d",
   "metadata": {},
   "outputs": [],
   "source": [
    "# Variables simbólicas\n",
    "delta_r = symbols(\"delta_r\", real=True)\n",
    "r0 = 0        # Radio inicial (mm)\n",
    "h = 150        # Altura del cilindro (mm)\n",
    "v_inicial = 0 # Volumen inicial (mm³)\n",
    "cambio_tornillo = 1.25  # mm por vuelta\n",
    "\n",
    "# Rango de volúmenes\n",
    "volumenes = np.linspace(0, 720000, 100)\n",
    "\n",
    "vueltas = []\n",
    "\n",
    "for v_final in volumenes:\n",
    "    # Ecuación completa: π*h*(2*r0*delta_r + delta_r**2) = v_final - v_inicial\n",
    "    eq = Eq(np.pi*h*(2*r0*delta_r + delta_r**2), v_final - v_inicial)\n",
    "    soluciones = solve(eq, delta_r)\n",
    "    \n",
    "    # Filtrar solo soluciones reales y positivas\n",
    "    soluciones_reales = [s.evalf() for s in soluciones if s.is_real and s.evalf() >= 0]\n",
    "    \n",
    "    if soluciones_reales:\n",
    "        delta_r_val = min(soluciones_reales)  # Tomamos la menor positiva (normalmente la válida)\n",
    "        vueltas.append(delta_r_val / cambio_tornillo)\n",
    "    else:\n",
    "        vueltas.append(np.nan)  # Si no hay solución real\n",
    "\n",
    "# Graficar\n",
    "plt.plot(vueltas, volumenes, label='Volumen vs Vueltas')\n",
    "plt.ylabel(\"Volumen final (mm³)\")\n",
    "plt.xlabel(\"Número de vueltas\")\n",
    "plt.title(\"Relación Volumen - Vueltas del Tornillo\")\n",
    "plt.grid(True)\n",
    "plt.legend()\n",
    "plt.show()"
   ]
  }
 ],
 "metadata": {
  "kernelspec": {
   "display_name": "Python 3",
   "language": "python",
   "name": "python3"
  },
  "language_info": {
   "codemirror_mode": {
    "name": "ipython",
    "version": 3
   },
   "file_extension": ".py",
   "mimetype": "text/x-python",
   "name": "python",
   "nbconvert_exporter": "python",
   "pygments_lexer": "ipython3",
   "version": "3.13.1"
  }
 },
 "nbformat": 4,
 "nbformat_minor": 5
}
