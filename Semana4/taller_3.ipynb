{
 "cells": [
  {
   "cell_type": "code",
   "execution_count": 29,
   "id": "700d1f1d",
   "metadata": {},
   "outputs": [],
   "source": [
    "#Importar librerias\n",
    "import numpy as np\n",
    "import matplotlib.pyplot as plt\n",
    "import pandas as pd\n",
    "from matplotlib.animation import FuncAnimation\n",
    "from sympy import symbols, Matrix, pi,deg, cos, sin,atan, simplify, eye, solve, latex, atan2, pprint, init_printing, Derivative, sqrt\n",
    "from sympy import lambdify\n",
    "from sympy.physics.mechanics import ReferenceFrame, dynamicsymbols, init_vprinting, Point\n",
    "from sklearn.metrics import mean_squared_error\n",
    "from scipy.integrate import cumulative_trapezoid"
   ]
  },
  {
   "cell_type": "markdown",
   "id": "a824b8a0",
   "metadata": {},
   "source": [
    "-----------------------------------------------------------------PUNTO 1---------------------------------------------------------"
   ]
  },
  {
   "cell_type": "code",
   "execution_count": 30,
   "id": "1b0c4edd",
   "metadata": {},
   "outputs": [
    {
     "name": "stdout",
     "output_type": "stream",
     "text": [
      "Verificacion de la posición:\n"
     ]
    },
    {
     "data": {
      "text/latex": [
       "$\\displaystyle -  l \\cos{\\left(\\theta{\\left(t \\right)} \\right)}\\mathbf{\\hat{n_fijo}_x} + (l \\sin{\\left(\\theta{\\left(t \\right)} \\right)} + r)\\mathbf{\\hat{n_fijo}_y}$"
      ],
      "text/plain": [
       "- l*cos(theta(t))*N_fijo.x + (l*sin(theta(t)) + r)*N_fijo.y"
      ]
     },
     "metadata": {},
     "output_type": "display_data"
    },
    {
     "name": "stdout",
     "output_type": "stream",
     "text": [
      "Aceleracion es: \n"
     ]
    },
    {
     "data": {
      "text/latex": [
       "$\\displaystyle l \\left(\\sin{\\left(\\theta{\\left(t \\right)} \\right)} \\frac{d^{2}}{d t^{2}} \\theta{\\left(t \\right)} + \\cos{\\left(\\theta{\\left(t \\right)} \\right)} \\left(\\frac{d}{d t} \\theta{\\left(t \\right)}\\right)^{2}\\right)\\mathbf{\\hat{n_fijo}_x} + l \\left(- \\sin{\\left(\\theta{\\left(t \\right)} \\right)} \\left(\\frac{d}{d t} \\theta{\\left(t \\right)}\\right)^{2} + \\cos{\\left(\\theta{\\left(t \\right)} \\right)} \\frac{d^{2}}{d t^{2}} \\theta{\\left(t \\right)}\\right)\\mathbf{\\hat{n_fijo}_y}$"
      ],
      "text/plain": [
       "l*(sin(theta(t))*Derivative(theta(t), (t, 2)) + cos(theta(t))*Derivative(theta(t), t)**2)*N_fijo.x + l*(-sin(theta(t))*Derivative(theta(t), t)**2 + cos(theta(t))*Derivative(theta(t), (t, 2)))*N_fijo.y"
      ]
     },
     "metadata": {},
     "output_type": "display_data"
    }
   ],
   "source": [
    "#variables\n",
    "theta = dynamicsymbols(\"theta\") #creamos al angulo dinamico, con respecto al tiempo\n",
    "t = symbols(\"t\") #creamos el tiempo\n",
    "\n",
    "l = symbols(\"l\") #mm,creamos a la longitud L simbolica\n",
    "\n",
    "#marcos de referencia\n",
    "N_fijo = ReferenceFrame(\"N_fijo\")\n",
    "A_movil = N_fijo.orientnew(\"A_movil\", \"Axis\", (pi - theta, N_fijo.z)) #El angulo se mide desde el otro eje. Entonces en realidad el angulo es 180 - valor angulo\n",
    "\n",
    "\n",
    "#Ahora bien, hasta aqui solo hemos llegado a A\n",
    "#Necesitamos llegar a la punta de A, entonces por eso le podemos sumar el radio en Y, que representa al punto mas alto de la rueda, cualquiera que sea ese punto (que cambia todo el tiempo)\n",
    "\n",
    "#Ahora si, ya podemos llegar a la punta:\n",
    "radio = symbols(\"r\") #mm\n",
    "vector_pos = (l)*A_movil.x + radio*N_fijo.y #que depende del sistema A y del sistema B\n",
    "\n",
    "#Ahora bien, notamos que el vector de posicion que tenemos va a comportarse igual en terminos de aceleracion que el B, luego\n",
    "\n",
    "velocidad_vector_pos = vector_pos.diff(t,N_fijo)\n",
    "aceleracion_vector_pos = velocidad_vector_pos.diff(t, N_fijo)\n",
    "\n",
    "aceleracion_vector_pos.simplify()\n",
    "print(\"Verificacion de la posición:\")\n",
    "display(vector_pos.express(N_fijo))\n",
    "\n",
    "print(\"Aceleracion es: \")\n",
    "display(aceleracion_vector_pos.simplify())"
   ]
  },
  {
   "cell_type": "code",
   "execution_count": 31,
   "id": "f485ccdf",
   "metadata": {},
   "outputs": [
    {
     "data": {
      "text/latex": [
       "$\\displaystyle -0.788512516844081$"
      ],
      "text/plain": [
       "-0.788512516844081"
      ]
     },
     "metadata": {},
     "output_type": "display_data"
    }
   ],
   "source": [
    "#Ahora para el problema en particular:\n",
    "#Recordemos que un slider no tiene componente X de aceleracion (asumido) por lo que solo nos importa la y\n",
    "#La componente y de la aceleracion la podemos hallar con producto punto\n",
    "\n",
    "display(aceleracion_vector_pos.subs({\n",
    "    theta: np.deg2rad(60),\n",
    "    theta.diff(t): 4, \n",
    "    theta.diff(t,2):8,\n",
    "    l:0.080,\n",
    "    radio:0.020}).dot(N_fijo.y).simplify())"
   ]
  },
  {
   "cell_type": "markdown",
   "id": "b8f89e34",
   "metadata": {},
   "source": [
    "-----------------------------------------------------------------PUNTO 2---------------------------------------------------------"
   ]
  },
  {
   "cell_type": "code",
   "execution_count": 32,
   "id": "d8a21424",
   "metadata": {},
   "outputs": [
    {
     "data": {
      "text/latex": [
       "$\\displaystyle -  b \\cos{\\left(\\theta{\\left(t \\right)} \\right)}\\mathbf{\\hat{eje_fijo_o}_x} + b \\sin{\\left(\\theta{\\left(t \\right)} \\right)}\\mathbf{\\hat{eje_fijo_o}_y}$"
      ],
      "text/plain": [
       "- b*cos(theta(t))*eje_fijo_O.x + b*sin(theta(t))*eje_fijo_O.y"
      ]
     },
     "metadata": {},
     "output_type": "display_data"
    },
    {
     "data": {
      "text/latex": [
       "$\\displaystyle b \\cos{\\left(\\theta{\\left(t \\right)} \\right)}\\mathbf{\\hat{eje_fijo_o}_x} + b \\sin{\\left(\\theta{\\left(t \\right)} \\right)}\\mathbf{\\hat{eje_fijo_o}_y}$"
      ],
      "text/plain": [
       "b*cos(theta(t))*eje_fijo_O.x + b*sin(theta(t))*eje_fijo_O.y"
      ]
     },
     "metadata": {},
     "output_type": "display_data"
    }
   ],
   "source": [
    "#A. Describir la posicion de las barras con vectores\n",
    "#Podemos crear un eje fijo en O:\n",
    "#Ahora creamos al angulo y el tiempo\n",
    "eje_fijo_O = ReferenceFrame(\"eje_fijo_O\")\n",
    "theta = dynamicsymbols(\"theta\") #creamos al angulo dinamico, con respecto al tiempo\n",
    "t = symbols(\"t\") #creamos el tiempo\n",
    "#Podemos tener\n",
    "\n",
    "#Creamos la distancia entre deslizadores\n",
    "x = symbols(\"x\")\n",
    "#Creamos la longitud de las barras\n",
    "b = symbols(\"b\")\n",
    "\n",
    "#Creamos un marco de referencia movil para cada barra\n",
    "eje_movil_C = eje_fijo_O.orientnew(\"eje_movil_C\", \"Axis\", (theta, eje_fijo_O.z))   \n",
    "eje_movil_D = eje_fijo_O.orientnew(\"eje_movil_D\", \"Axis\", (pi -theta, eje_fijo_O.z)) #el angulo que mide C. El angulo de elevancion de C tambien es theta por el teorema del seno, solo que su angulo medido desde el eje Fijo es 180 - angulo\n",
    "#Creamos los vectores posicion\n",
    "vector_pos_O = b*eje_movil_C.x\n",
    "vector_pos_C = b*eje_movil_D.x \n",
    "\n",
    "display(vector_pos_C.express(eje_fijo_O).simplify())\n",
    "display(vector_pos_O.express(eje_fijo_O).simplify())"
   ]
  },
  {
   "cell_type": "code",
   "execution_count": 33,
   "id": "1e73755b",
   "metadata": {},
   "outputs": [
    {
     "data": {
      "text/latex": [
       "$\\displaystyle b \\sin{\\left(\\theta{\\left(t \\right)} \\right)} \\frac{d}{d t} \\theta{\\left(t \\right)}\\mathbf{\\hat{eje_fijo_o}_x} + b \\cos{\\left(\\theta{\\left(t \\right)} \\right)} \\frac{d}{d t} \\theta{\\left(t \\right)}\\mathbf{\\hat{eje_fijo_o}_y}$"
      ],
      "text/plain": [
       "b*sin(theta(t))*Derivative(theta(t), t)*eje_fijo_O.x + b*cos(theta(t))*Derivative(theta(t), t)*eje_fijo_O.y"
      ]
     },
     "execution_count": 33,
     "metadata": {},
     "output_type": "execute_result"
    }
   ],
   "source": [
    "#B\n",
    "velocidad_C = vector_pos_C.diff(t, eje_fijo_O).simplify()\n",
    "velocidad_C"
   ]
  },
  {
   "cell_type": "code",
   "execution_count": 34,
   "id": "7cc21452",
   "metadata": {},
   "outputs": [
    {
     "data": {
      "text/latex": [
       "$\\displaystyle b \\left(\\sin{\\left(\\theta{\\left(t \\right)} \\right)} \\frac{d^{2}}{d t^{2}} \\theta{\\left(t \\right)} + \\cos{\\left(\\theta{\\left(t \\right)} \\right)} \\left(\\frac{d}{d t} \\theta{\\left(t \\right)}\\right)^{2}\\right)\\mathbf{\\hat{eje_fijo_o}_x} + b \\left(- \\sin{\\left(\\theta{\\left(t \\right)} \\right)} \\left(\\frac{d}{d t} \\theta{\\left(t \\right)}\\right)^{2} + \\cos{\\left(\\theta{\\left(t \\right)} \\right)} \\frac{d^{2}}{d t^{2}} \\theta{\\left(t \\right)}\\right)\\mathbf{\\hat{eje_fijo_o}_y}$"
      ],
      "text/plain": [
       "b*(sin(theta(t))*Derivative(theta(t), (t, 2)) + cos(theta(t))*Derivative(theta(t), t)**2)*eje_fijo_O.x + b*(-sin(theta(t))*Derivative(theta(t), t)**2 + cos(theta(t))*Derivative(theta(t), (t, 2)))*eje_fijo_O.y"
      ]
     },
     "execution_count": 34,
     "metadata": {},
     "output_type": "execute_result"
    }
   ],
   "source": [
    "#C\n",
    "aceleracion_C = velocidad_C.diff(t, eje_fijo_O).simplify()\n",
    "aceleracion_C"
   ]
  },
  {
   "cell_type": "markdown",
   "id": "c8b24f51",
   "metadata": {},
   "source": [
    "-----------------------------------------------------------------PUNTO 3---------------------------------------------------------"
   ]
  },
  {
   "cell_type": "code",
   "execution_count": 35,
   "id": "bb770c76",
   "metadata": {},
   "outputs": [
    {
     "data": {
      "text/latex": [
       "$\\displaystyle \\frac{b \\left(2 \\sin{\\left(\\theta{\\left(t \\right)} \\right)} \\left(\\frac{d}{d t} \\theta{\\left(t \\right)}\\right)^{2} + \\cos{\\left(\\theta{\\left(t \\right)} \\right)} \\frac{d^{2}}{d t^{2}} \\theta{\\left(t \\right)}\\right)}{\\cos^{3}{\\left(\\theta{\\left(t \\right)} \\right)}}\\mathbf{\\hat{fijo_3}_y}$"
      ],
      "text/plain": [
       "b*(2*sin(theta(t))*Derivative(theta(t), t)**2 + cos(theta(t))*Derivative(theta(t), (t, 2)))/cos(theta(t))**3*fijo_3.y"
      ]
     },
     "execution_count": 35,
     "metadata": {},
     "output_type": "execute_result"
    }
   ],
   "source": [
    "#Crear el marco de referencia fijo y el angulo y el tiempo\n",
    "fijo_3 = ReferenceFrame(\"fijo_3\")\n",
    "theta = dynamicsymbols(\"theta\") #creamos al angulo dinamico, con respecto al tiempo\n",
    "t = symbols(\"t\") #creamos el tiempo\n",
    "#Crear marco de referencia movil\n",
    "movil_3 = fijo_3.orientnew(\"movil_3\", \"Axis\", (theta, fijo_3.z))\n",
    "#Crear vector posicion hacia A\n",
    "b = symbols(\"b\")\n",
    "distancia_r = b/cos(theta)  #r cambia con respecto al angulo\n",
    "vector_pos_3 = distancia_r*movil_3.x\n",
    "#Crear vector desde el origen hasta la base de todo el objeto derecho\n",
    "vector_base = b*fijo_3.x\n",
    "\n",
    "#Crear vector de la altura y, el cual es la \n",
    "#Podemos hacer una suma de todos: \n",
    "#Vector de OA + Vector A al piso + Vector del piso a O = 0\n",
    "#Luego Vector A al piso (y) = -vector OA (vector_pos_3) - vector del piso a O (vector_base)\n",
    "vector_altura_y = vector_pos_3 - vector_base\n",
    "\n",
    "#Derivar para obtener la velocidad\n",
    "vector_velocidad_y = vector_altura_y.diff(t, fijo_3)\n",
    "#Derivar otra vez para obtener aceleracion\n",
    "vector_aceleracion_y = vector_velocidad_y.diff(t, fijo_3)\n",
    "\n",
    "vector_aceleracion_y.simplify()"
   ]
  },
  {
   "cell_type": "markdown",
   "id": "c87a23f6",
   "metadata": {},
   "source": [
    "-----------------------------------------------------------------PUNTO 4---------------------------------------------------------"
   ]
  },
  {
   "cell_type": "code",
   "execution_count": 36,
   "id": "c530b566",
   "metadata": {},
   "outputs": [
    {
     "data": {
      "text/latex": [
       "$\\displaystyle \\pi h_{c} \\left(l^{2} - \\left(l - l_{punto} n_{vueltas}\\right)^{2}\\right)$"
      ],
      "text/plain": [
       "pi*h_c*(l**2 - (l - l_punto*n_vueltas)**2)"
      ]
     },
     "metadata": {},
     "output_type": "display_data"
    }
   ],
   "source": [
    "#Definicion de simbolos\n",
    "l = symbols(\"l\")  #longitud de las piezas rojas\n",
    "h_c = symbols(\"h_c\") #altura del cilindro (height cylinder) #esta es constante\n",
    "\n",
    "n_vueltas = symbols(\"n_vueltas\")\n",
    "l_punto = symbols(\"l_punto\") #este valor significa que el tornilo baja o sube 1.25 mm por cada vuelta que se le da. por ahora solo lo pondremos sin reemplazar el valor\n",
    "#este valor es el mismo que lo que cambian de altura las piezas rojas\n",
    "\n",
    "#El volumen de un cilindro es pi*r^2*h\n",
    "#Siendo r el radio (que se encuentra en termino de las piezas rojas)\n",
    "#Y h la altura, que tambien se encuentra en termino de las piezas rojas\n",
    "\n",
    "# #Definir la altura de las piezas_rojas\n",
    "#Para esto podemos usar que si giramos el tornillo en cierta direccion, entonces empezara a abrirse el flotador\n",
    "#De esta forma, se disminuye la altura de las piezas rojas, por tanto:\n",
    "altura_piezas_rojas = l - l_punto*n_vueltas \n",
    "\n",
    "#Definir el radio \n",
    "#El radio se encuentra en funcion de la longitud de las piezas rojas y del angulo al que estas se encuentren\n",
    "#El angulo en que estas encuentren está directamente relacionado con triángulo isosceles entre la altura las piezas rojas y las mitades de las piezas rojas\n",
    "\n",
    "#Por tanto, podemos hallar el radio con el teorema de pitágoras\n",
    "#En particular, podemos observar un triangulo rectangulo en la tercera imagen del taller, en la que las piezas rojas forman una X\n",
    "#El triángulo rectángulo se forma con una de las diagonales de la X siendo la hipotenusa y los catetos son la protección de esa diagonal sobre el eje X e Y\n",
    "#La proyección de esa diagonal sobre el eje Y termina siendo coincidencialmente la altura de las piezas rojas, anteriormente calculada\n",
    "#Por tanto, tenemos que:\n",
    "# c^2 = a^2 + b^2\n",
    "# l^2 (longitud pieza roja) = altura_cilindro^2 + (radio)^2\n",
    "#Luego, despejando el radio:\n",
    "# radio = raiz(l**2 - altura_cilindro**2)\n",
    "#Por tanto:\n",
    "radio_cilindro = sqrt(l**2 - altura_piezas_rojas**2)\n",
    "#De esta forma:\n",
    "volumen = pi*h_c*radio_cilindro**2\n",
    "display(volumen)"
   ]
  },
  {
   "cell_type": "code",
   "execution_count": 37,
   "id": "33d1204d",
   "metadata": {},
   "outputs": [
    {
     "data": {
      "image/png": "[encoded data removed]",
      "text/plain": [
       "<Figure size 640x480 with 1 Axes>"
      ]
     },
     "metadata": {},
     "output_type": "display_data"
    }
   ],
   "source": [
    "#Ahora podemos hacer la gráfica, usando lambdify\n",
    "#Paso 1: Construir la expresion\n",
    "#En nuestro caso, es simplemente una sustitucion con subs del volumen \n",
    "parametros = {\n",
    "    h_c:134.7, #mm, de acuerdo con el cad\n",
    "    l: 73,        # Longitud de las piezas rojas (mm)\n",
    "    l_punto: 1.25, # mm por vuelta\n",
    "}\n",
    "#luego creamos la expresion:\n",
    "volumen_exp = volumen.subs(parametros)\n",
    "#Paso 2: Crear la calculadora, \n",
    "#Podemos observar que con el sbus lo único no definido es el número de vueltas y sobre este valor vamos a iterar\n",
    "#Se comportará este valor como nuestro tiempo. Ahora bien, para usar lambdify introducimos listas de los valores a iterar (n_vueltas) y sobre las expresiones que se usaran (volumen_exp)\n",
    "calculadora = lambdify([n_vueltas], [volumen_exp], \"numpy\")\n",
    "\n",
    "#Paso 3: Recorrer los valores a iterar\n",
    "#Creamos listas vacias para los valores de x y y de la grafica\n",
    "x_vals = []\n",
    "y_vals = []\n",
    "for num in np.linspace(0,50,15):\n",
    "    volumen_numerico = calculadora(num)\n",
    "    x_vals.append(num)\n",
    "    y_vals.append(volumen_numerico[0])\n",
    "\n",
    "# Graficar los puntos y conectarlos\n",
    "plt.plot(x_vals, y_vals, \"o-\", color=\"blue\", label=\"Volumen contra Vueltas\")  \n",
    "plt.ylabel(\"Volumen final (mm³)\")\n",
    "plt.xlabel(\"Número de vueltas\")\n",
    "plt.title(\"Relación Volumen - Vueltas del Tornillo\")\n",
    "plt.grid(True)\n",
    "plt.legend()\n",
    "plt.show()"
   ]
  }
 ],
 "metadata": {
  "kernelspec": {
   "display_name": "Python 3",
   "language": "python",
   "name": "python3"
  },
  "language_info": {
   "codemirror_mode": {
    "name": "ipython",
    "version": 3
   },
   "file_extension": ".py",
   "mimetype": "text/x-python",
   "name": "python",
   "nbconvert_exporter": "python",
   "pygments_lexer": "ipython3",
   "version": "3.13.1"
  }
 },
 "nbformat": 4,
 "nbformat_minor": 5
}
