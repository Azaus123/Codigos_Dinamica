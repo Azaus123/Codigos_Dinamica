{
 "cells": [
  {
   "cell_type": "code",
   "execution_count": 2,
   "id": "0708b875",
   "metadata": {},
   "outputs": [],
   "source": [
    "import numpy as np\n",
    "import matplotlib.pyplot as plt\n",
    "from matplotlib.animation import FuncAnimation\n",
    "from sympy import symbols, Matrix, pi, cos, sin, simplify, eye, solve, latex, atan2, pprint, init_printing, Derivative, sqrt\n",
    "from sympy.physics.mechanics import ReferenceFrame, dynamicsymbols, init_vprinting, Point"
   ]
  },
  {
   "cell_type": "code",
   "execution_count": null,
   "id": "c9a785cd",
   "metadata": {},
   "outputs": [
    {
     "data": {
      "text/latex": [
       "$\\displaystyle \\frac{d}{d t} x{\\left(t \\right)}\\mathbf{\\hat{n}_x} + \\frac{d}{d t} y{\\left(t \\right)}\\mathbf{\\hat{n}_y}$"
      ],
      "text/plain": [
       "Derivative(x(t), t)*N.x + Derivative(y(t), t)*N.y"
      ]
     },
     "execution_count": 5,
     "metadata": {},
     "output_type": "execute_result"
    }
   ],
   "source": [
    "#Crear marcos de referencia, primero el global, que es fijo\n",
    "N = ReferenceFrame('N') \n",
    "#N.x #vector unitario horizontal, x gorrito\n",
    "#crear un vector , r = 1*N.x + 2*N.y #asi inscribimos un vector en el marco de referencia N\n",
    "#este vector ya es operable\n",
    "#Producto cruz se realiza con r1.cross(r2)\n",
    "#Producto punto se realiza con r1.dot(r2)\n",
    "t = symbols('t') #variable de tiempo\n",
    "x, y = dynamicsymbols(\"x,y\") #tiene que ser un simbolo dinamico pues cambia con el tiempo\n",
    "p_opcion1 = x*N.x + y*N.y #este es un vector que cambia con el tiempo\n",
    "p_opcion1.diff(t,N) #calculamos la derivada, la velocidad"
   ]
  },
  {
   "cell_type": "code",
   "execution_count": null,
   "id": "0aa4f1e8",
   "metadata": {},
   "outputs": [
    {
     "data": {
      "text/latex": [
       "$\\displaystyle -  r \\left(\\frac{d}{d t} \\theta{\\left(t \\right)}\\right)^{2}\\mathbf{\\hat{a}_x}$"
      ],
      "text/plain": [
       "- r*Derivative(theta(t), t)**2*A.x"
      ]
     },
     "execution_count": 17,
     "metadata": {},
     "output_type": "execute_result"
    }
   ],
   "source": [
    "#creamos otro marco de referencia\n",
    "theta = dynamicsymbols('theta')  #el angulo cambia con el tiempo\n",
    "A = N.orientnew('A', 'Axis',(theta, N.z))  #creamo\n",
    "#creamos un marco nuevo con una horientacion diferente\n",
    "\n",
    "r = symbols('r')\n",
    "p_opcion2 = r*A.x\n",
    "p_opcion2.diff(t, N) #derivo con respecto a N, si lo hago con respecto a A da cero\n",
    "#tanto la opcion 2 es igual a la opcion 1\n",
    "\n",
    "#hallar componentes para proyectar a P2 con respecto a N\n",
    "p_opcion2.dot(N.x) #hallamos la proyeccion de P2 sobre el eje X\n",
    "p_opcion2.dot(N.y) #hallamos la proyeccion de P2 sobre el eje y\n",
    "\n",
    "\n",
    "#matriz de cosenos directores, matriz de rotacion\n",
    "A.dcm(N)\n",
    "\n",
    "#¿Cómo cambiar del marco fijo al marco dinamico\n",
    "p_opcion2.express(N) #expresamos al vector del marco A en terminos de N, pasar de polares a cartesianas\n",
    "\n",
    "#¿Como hallar aceleracion?\n",
    "a=p_opcion2.diff(t,N).diff(t,N).express(A).simplify()\n",
    "#expresamos la aceleracion de p_opcion2 en terminos del marco A y la simplificamos\n",
    "#es negativo ax ya que hay una aceleracion hacia adentro\n",
    "a.subs({theta.diff(t).diff(t):0}) #ahora cambiamos a theta doble punto por cero, la moto no acelera\n",
    "\n",
    "\n"
   ]
  },
  {
   "cell_type": "code",
   "execution_count": null,
   "id": "c1a8e6e7",
   "metadata": {},
   "outputs": [
    {
     "name": "stdout",
     "output_type": "stream",
     "text": [
      "\n",
      " Posicion del efector final:\n",
      "(L₁⋅cos(θ₁(t)) + L₂⋅cos(θ₁(t) + θ₂(t))) n_x + (L₁⋅sin(θ₁(t)) + L₂⋅sin(θ₁(t) +  ↪\n",
      "\n",
      "↪ θ₂(t))) n_y\n",
      "1.4142135623731*N.x + 1.41421356237309*N.y\n"
     ]
    }
   ],
   "source": [
    "#Resolver quiz\n",
    "\n",
    "#creamos una funcion para poder probarlo ya que pide .subs\n",
    "def quiz(longitud_1, longitud_2, angulo1, angulo2):\n",
    "    #Establecemos las variables\n",
    "    L1 = symbols('L1') #longitud del primer brazo\n",
    "    L2 = symbols('L2') #longitud del segundo brazo\n",
    "    t = symbols('t') #variable de tiempo\n",
    "    theta1, theta2 = dynamicsymbols(\"theta1, theta2\") #angulos\n",
    "\n",
    "    #Crear marcos de referencia, global N, dinamico A dinamico B\n",
    "    N = ReferenceFrame('N')\n",
    "    A = N.orientnew('A', 'Axis', (theta1, N.z))\n",
    "    B = A.orientnew('B', 'Axis', (theta2, N.z)) #da igual si N.z o A.z\n",
    "\n",
    "    #escribimos el vector del primer y segundo brazo\n",
    "    V_primer_brazo = L1*A.x\n",
    "    V_segundo_brazo = L2*B.x\n",
    "\n",
    "    V_final_A = V_primer_brazo + V_segundo_brazo.express(A) #vector final del extremo del brazo\n",
    "    V_final_N = V_final_A.express(N).simplify() #vector final del extremo del brazo expresado en N\n",
    "    print(\"\\n Posicion del vector final:\")\n",
    "    pprint(V_final_N) #esto es la posicion final, expresada con respecto a N,\n",
    "    diccionario = {L1: longitud_1, L2: longitud_2, theta1: np.deg2rad(angulo1),theta2:  np.deg2rad(angulo2)} #diccionario de sustitucion\n",
    "    print(V_final_N.subs(diccionario)) #sustituimos \n",
    "\n",
    "quiz(1, 1, 45, 0)\n",
    "\n"
   ]
  },
  {
   "cell_type": "code",
   "execution_count": null,
   "id": "f368f886",
   "metadata": {},
   "outputs": [],
   "source": [
    "#Hallar todos los posibles puntos a los que puede llegar el brazo\n",
    "def segundaparte(longitud1, longitud2):\n",
    "        #Establecemos las variables\n",
    "    L1 = symbols('L1') #longitud del primer brazo\n",
    "    L2 = symbols('L2') #longitud del segundo brazo\n",
    "    t = symbols('t') #variable de tiempo\n",
    "    theta1, theta2 = dynamicsymbols(\"theta1, theta2\") #angulos\n",
    "\n",
    "    #Crear marcos de referencia, global N, dinamico A dinamico B\n",
    "    N = ReferenceFrame('N')\n",
    "    A = N.orientnew('A', 'Axis', (theta1, N.z))\n",
    "    B = A.orientnew('B', 'Axis', (theta2, N.z)) #da igual si N.z o A.z\n",
    "\n",
    "    #escribimos el vector del primer y segundo brazo\n",
    "    V_primer_brazo = L1*A.x\n",
    "    V_segundo_brazo = L2*B.x\n",
    "    \n",
    "    V_final_A = V_primer_brazo + V_segundo_brazo.express(A) #vector final del extremo del brazo\n",
    "    V_final_N = V_final_A.express(N).simplify() #vector final del extremo del brazo expresado en N\n",
    "    \n",
    "    generar_angulos = np.linspace(0, 2*np.pi, 100)  # Generar 100 ángulos entre 0 y 2π\n",
    "    generar_angulos_2 = np.linspace(2*np.pi, 0, -100)\n",
    "    \n",
    "    \n",
    "    "
   ]
  }
 ],
 "metadata": {
  "kernelspec": {
   "display_name": "Python 3",
   "language": "python",
   "name": "python3"
  },
  "language_info": {
   "codemirror_mode": {
    "name": "ipython",
    "version": 3
   },
   "file_extension": ".py",
   "mimetype": "text/x-python",
   "name": "python",
   "nbconvert_exporter": "python",
   "pygments_lexer": "ipython3",
   "version": "3.13.1"
  }
 },
 "nbformat": 4,
 "nbformat_minor": 5
}
