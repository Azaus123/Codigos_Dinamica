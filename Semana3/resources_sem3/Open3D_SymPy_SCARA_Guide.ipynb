{
 "cells": [
  {
   "cell_type": "markdown",
   "id": "e56dd1e5",
   "metadata": {},
   "source": [
    "<table width=\"100%\" style=\"border: none; border-collapse: collapse;\">\n",
    "  <tr>\n",
    "    <td style=\"vertical-align: middle; padding: 10px;\">\n",
    "      <h1 style=\"margin: 0; font-size: 1.5em;\">Guía Semana No. 3</h1>\n",
    "    </td>\n",
    "    <td style=\"text-align: right; vertical-align: middle; padding: 10px;\">\n",
    "      <img src=\"resources_5082025/University_of_Los_Andes_logo.png\" width=\"120\" alt=\"Logo Universidad de los Andes\" />\n",
    "    </td>\n",
    "  </tr>\n",
    "</table>\n",
    "<hr>\n",
    "\n",
    "Este cuaderno te ayuda a comprobar tu instalación, probar Open3D en *ventana externa* (recomendado usar entornos virtuales como enseño el Dr. Jonathan para evitar conflicto de paquetes) e *inline (WebRTC)*.\n",
    "\n",
    "**Contenido:**\n",
    "1. Instalación y verificación\n",
    "2. Visualización externa (GLFW)\n",
    "3. Visualización inline (WebRTC)\n",
    "4. Animación 2D simple con `LineSet`\n",
    "5. Visualización de una trayectoria como nube de puntos"
   ]
  },
  {
   "cell_type": "markdown",
   "id": "5ae51a3d",
   "metadata": {},
   "source": [
    "## 1) Instalación y verificación\n",
    "Ejecuta esta celda si aún no tienes las dependencias. En algunos entornos institucionales puede que necesites permisos de administrador o un entorno virtual."
   ]
  },
  {
   "cell_type": "code",
   "execution_count": 1,
   "id": "f4714d22",
   "metadata": {},
   "outputs": [
    {
     "name": "stdout",
     "output_type": "stream",
     "text": [
      "Python 3.8.0 (tags/v3.8.0:fa919fd, Oct 14 2019, 19:37:50) [MSC v.1916 64 bit (AMD64)]\n",
      "Sistema Windows-10-10.0.19041-SP0\n"
     ]
    }
   ],
   "source": [
    "!pip install -q sympy numpy open3d ipywidgets  \n",
    "import sys, platform\n",
    "print('Python', sys.version)\n",
    "print('Sistema', platform.platform())"
   ]
  },
  {
   "cell_type": "code",
   "execution_count": 2,
   "id": "3dc5b8da",
   "metadata": {},
   "outputs": [
    {
     "name": "stdout",
     "output_type": "stream",
     "text": [
      "Jupyter environment detected. Enabling Open3D WebVisualizer.\n",
      "[Open3D INFO] WebRTC GUI backend enabled.\n",
      "[Open3D INFO] WebRTCWindowSystem: HTTP handshake server disabled.\n",
      "Open3D: 0.19.0\n",
      "SymPy  : 1.13.3\n"
     ]
    }
   ],
   "source": [
    "import open3d as o3d\n",
    "import numpy as np\n",
    "import sympy as sp\n",
    "print('Open3D:', o3d.__version__)\n",
    "print('SymPy  :', sp.__version__)"
   ]
  },
  {
   "cell_type": "markdown",
   "id": "6b121f8d",
   "metadata": {},
   "source": [
    "## 2) Visualización externa (ventana GLFW)\n",
    "Esta es la forma **más estable**. Abre una ventana nativa fuera del notebook."
   ]
  },
  {
   "cell_type": "code",
   "execution_count": 13,
   "id": "5319e66f",
   "metadata": {},
   "outputs": [],
   "source": [
    "import open3d as o3d\n",
    "mesh = o3d.geometry.TriangleMesh.create_box(1,1,1)\n",
    "mesh.compute_vertex_normals()\n",
    "mesh.paint_uniform_color([0.1, 0.7, 1.0])\n",
    "o3d.visualization.draw_geometries([mesh])  # Ventana externa"
   ]
  },
  {
   "cell_type": "markdown",
   "id": "7008d3f6",
   "metadata": {},
   "source": [
    "## 3) Visualización inline (WebRTC)\n",
    "Muestra la escena **dentro** del notebook. Si no aparece, reinicia el kernel y verifica que tu red no bloquee WebRTC."
   ]
  },
  {
   "cell_type": "code",
   "execution_count": 12,
   "id": "584988dc",
   "metadata": {},
   "outputs": [],
   "source": [
    "import open3d as o3d\n",
    "# o3d.visualization.webrtc_server.enable_webrtc()\n",
    "sphere = o3d.geometry.TriangleMesh.create_sphere(0.5)\n",
    "sphere.compute_vertex_normals()\n",
    "o3d.visualization.draw_geometries([sphere])  # Debería mostrarse inline"
   ]
  },
  {
   "cell_type": "markdown",
   "id": "3e4c7931",
   "metadata": {},
   "source": [
    "## 4) Animación 2D simple con `LineSet`\n",
    "Ejemplo básico: movemos un punto de una polilínea y **redibujamos**. Para animaciones fluidas, se recomienda la ventana externa con `Visualizer.register_animation_callback`."
   ]
  },
  {
   "cell_type": "code",
   "execution_count": null,
   "id": "6b3aa052",
   "metadata": {},
   "outputs": [
    {
     "name": "stdout",
     "output_type": "stream",
     "text": [
      "Jupyter environment detected. Enabling Open3D WebVisualizer.\n",
      "[Open3D INFO] WebRTC GUI backend enabled.\n",
      "[Open3D INFO] WebRTCWindowSystem: HTTP handshake server disabled.\n"
     ]
    }
   ],
   "source": [
    "import time\n",
    "import numpy as np\n",
    "import open3d as o3d\n",
    "\n",
    "# o3d.visualization.webrtc_server.enable_webrtc()\n",
    "\n",
    "# Línea quebrada: O(0)->P1(1)->P2(2)\n",
    "pts = np.array([[0,0,0],[1,0,0],[1,1,0]], dtype=float)\n",
    "lines = np.array([[0,1],[1,2]], dtype=np.int32)\n",
    "ls = o3d.geometry.LineSet(points=o3d.utility.Vector3dVector(pts),\n",
    "                          lines=o3d.utility.Vector2iVector(lines))\n",
    "ls.colors = o3d.utility.Vector3dVector([[0,0,0],[0,0,0]])\n",
    "\n",
    "for k in range(10):\n",
    "    pts[2] = [1, 1 + 0.1*k, 0]\n",
    "    ls.points = o3d.utility.Vector3dVector(pts)\n",
    "    o3d.visualization.draw_geometries([ls])  # re-dibuja la escena\n",
    "    time.sleep(0.05)"
   ]
  },
  {
   "cell_type": "markdown",
   "id": "e1f9f50c",
   "metadata": {},
   "source": [
    "## 5) Visualizar una trayectoria como nube de puntos\n",
    "Generamos una circunferencia 2D y la mostramos como `PointCloud`."
   ]
  },
  {
   "cell_type": "code",
   "execution_count": 2,
   "id": "04df7a3d",
   "metadata": {},
   "outputs": [],
   "source": [
    "import numpy as np\n",
    "import open3d as o3d\n",
    "\n",
    "R = 0.3\n",
    "theta = np.linspace(0, 2*np.pi, 300)\n",
    "xs = 0.8 * 1.0 + R*np.cos(theta)  # asumiendo L1=1.0\n",
    "ys = 0.0 + R*np.sin(theta)\n",
    "pcd = o3d.geometry.PointCloud()\n",
    "pcd.points = o3d.utility.Vector3dVector(np.c_[xs, ys, np.zeros_like(xs)])\n",
    "pcd.paint_uniform_color([0.15, 0.35, 0.95])\n",
    "o3d.visualization.draw_geometries([pcd])"
   ]
  }
 ],
 "metadata": {
  "kernelspec": {
   "display_name": ".venv",
   "language": "python",
   "name": "python3"
  },
  "language_info": {
   "codemirror_mode": {
    "name": "ipython",
    "version": 3
   },
   "file_extension": ".py",
   "mimetype": "text/x-python",
   "name": "python",
   "nbconvert_exporter": "python",
   "pygments_lexer": "ipython3",
   "version": "3.8.0"
  }
 },
 "nbformat": 4,
 "nbformat_minor": 5
}
