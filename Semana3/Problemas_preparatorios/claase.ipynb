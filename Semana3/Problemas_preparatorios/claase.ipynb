{
 "cells": [
  {
   "cell_type": "code",
   "execution_count": 2,
   "id": "7083304b",
   "metadata": {},
   "outputs": [],
   "source": [
    "#hallar magnitud minima velocidad para dejar el techo\n",
    "#Tambien hallar la distancia D a la que llega\n",
    "#Esto es solo velocidad horizontal\n",
    "#Importar librerias\n",
    "import numpy as np\n",
    "import matplotlib.pyplot as plt\n",
    "import pandas as pd\n",
    "from matplotlib.animation import FuncAnimation\n",
    "from sympy import symbols, Matrix, pi,deg, cos, sin,atan, simplify, eye, solve, latex, atan2, pprint, init_printing, Derivative, sqrt, Eq, solve\n",
    "from sympy.physics.mechanics import ReferenceFrame, dynamicsymbols, init_vprinting, Point"
   ]
  },
  {
   "cell_type": "code",
   "execution_count": null,
   "id": "0cb05929",
   "metadata": {},
   "outputs": [],
   "source": [
    "N = ReferenceFrame(\"N\")\n",
    "theta = dynamicsymbols(\"theta\")\n",
    "t = symbols(\"t\")\n",
    "\n",
    "l1 = 0.5 #longitud segmento\n",
    "l2 = 0.3 #longitud segmento\n",
    "A = N.orientnew(\"A\", \"Axis\", (theta, N.z))\n",
    "B = A.orientnew(\"B\", \"Axis\", (np.deg2rad(105), A.z)) #rotado 105 grados, el x e y casi que se invierten\n",
    "\n",
    "#Definir vector r3}\n",
    "r3 = -l1*A.x + + l2*B.x\n",
    "\n",
    "velocidad = \n",
    "aceleracion = r3.diff(t,N).diff(t,N)\n",
    "\n",
    "\n"
   ]
  }
 ],
 "metadata": {
  "kernelspec": {
   "display_name": "Python 3",
   "language": "python",
   "name": "python3"
  },
  "language_info": {
   "codemirror_mode": {
    "name": "ipython",
    "version": 3
   },
   "file_extension": ".py",
   "mimetype": "text/x-python",
   "name": "python",
   "nbconvert_exporter": "python",
   "pygments_lexer": "ipython3",
   "version": "3.13.1"
  }
 },
 "nbformat": 4,
 "nbformat_minor": 5
}
