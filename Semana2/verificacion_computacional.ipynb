{
 "cells": [
  {
   "cell_type": "markdown",
   "id": "0f4dec3e",
   "metadata": {},
   "source": [
    "Punto 1. \n",
    "No se anexa solución computacional porque es un dibujo."
   ]
  },
  {
   "cell_type": "code",
   "execution_count": 113,
   "id": "7328e89e",
   "metadata": {},
   "outputs": [],
   "source": [
    "#Importar librerias\n",
    "import numpy as np\n",
    "import matplotlib.pyplot as plt\n",
    "from matplotlib.animation import FuncAnimation\n",
    "from sympy import symbols, Matrix, pi,deg, cos, sin,atan, simplify, eye, solve, latex, atan2, pprint, init_printing, Derivative, sqrt\n",
    "from sympy.physics.mechanics import ReferenceFrame, dynamicsymbols, init_vprinting, Point"
   ]
  },
  {
   "cell_type": "markdown",
   "id": "6fedc8da",
   "metadata": {},
   "source": [
    "-----------------------------------------------------------------PUNTO 2---------------------------------------------------------"
   ]
  },
  {
   "cell_type": "code",
   "execution_count": 116,
   "id": "54e455cf",
   "metadata": {},
   "outputs": [],
   "source": [
    "#Punto 2\n",
    "N = ReferenceFrame('N') #creamos un marco de referencia fijo\n",
    "\n",
    "#escribimos las magnitudes de los vectores\n",
    "magnitud_a = 10\n",
    "magnitud_b = 20\n",
    "magnitud_c = 35\n",
    "\n",
    "#escribimos los angulos de los vectores\n",
    "angulo_a = 90\n",
    "angulo_b = 53\n",
    "angulo_c = -32\n",
    "\n",
    "#definimos el valor de cada componente de los vectores\n",
    "ax = magnitud_a*cos(np.deg2rad(angulo_a))\n",
    "ay =  magnitud_a*sin(np.deg2rad(angulo_a))\n",
    "\n",
    "bx = magnitud_b*cos(np.deg2rad(angulo_b))\n",
    "by =  magnitud_b*sin(np.deg2rad(angulo_b))\n",
    "\n",
    "cx = magnitud_c*cos(np.deg2rad(angulo_c))\n",
    "cy =  magnitud_c*sin(np.deg2rad(angulo_c))\n",
    "\n",
    "#definimos los vectores usando seno y coseno y con\n",
    "#los vectores unitarios de N\n",
    "vector_a = (ax)*N.x + (ay)*N.y\n",
    "vector_b = (bx)*N.x + (by)*N.y\n",
    "vector_c = (cx)*N.x + (cy)*N.y"
   ]
  },
  {
   "cell_type": "code",
   "execution_count": 117,
   "id": "d7996404",
   "metadata": {},
   "outputs": [
    {
     "name": "stdout",
     "output_type": "stream",
     "text": [
      "Las componentes del vector a son:\n",
      "En X: 0.0 \n",
      "En Y: 10.0000000000000\n",
      "Las componentes del vector b son:\n",
      "En X: 12.04 \n",
      "En Y: 15.97\n",
      "Las componentes del vector c son:\n",
      "En X: 29.68 \n",
      "En Y: -18.55\n",
      "\n",
      "\n",
      "El vector resultante es\n",
      "41.7179838285159 n_x + 7.42553595278368 n_y\n",
      "Su componente en X es 41.72 su componente en Y es 7.43\n"
     ]
    }
   ],
   "source": [
    "#A\n",
    "#Componentes en XY y vector resultante\n",
    "componentesX = [ax,bx,cx]\n",
    "componentesY = [ay,by,cy]\n",
    "nombre_vectores = [\"a\",\"b\", \"c\"]\n",
    "for i in range(len(nombre_vectores)):\n",
    "    print(\"Las componentes del vector\",nombre_vectores[i],\"son:\")\n",
    "    print(\"En X:\", round(componentesX[i],2), \"\\nEn Y:\", round(componentesY[i],2))\n",
    "    \n",
    "vector_resultante = vector_a + vector_b + vector_c\n",
    "print(\"\\n\\nEl vector resultante es\")\n",
    "pprint(vector_resultante)\n",
    "print(\"Su componente en X es\", round(vector_resultante.dot(N.x),2), \"su componente en Y es\", round(vector_resultante.dot(N.y),2))"
   ]
  },
  {
   "cell_type": "code",
   "execution_count": 119,
   "id": "cfa98bf5",
   "metadata": {},
   "outputs": [
    {
     "name": "stdout",
     "output_type": "stream",
     "text": [
      "La magnitud del vector resultante es 42.3736800254875\n",
      "El ángulo con respecto al eje X del sistema de referencia es 10.092586831459226 grados\n"
     ]
    }
   ],
   "source": [
    "#B\n",
    "#Magnitud y direccion del vector resultante\n",
    "magnitud_resultante = vector_resultante.magnitude()\n",
    "angulo_resultante = vector_resultante.angle_between(N.x)\n",
    "print(\"La magnitud del vector resultante es\", magnitud_resultante)\n",
    "print(\"El ángulo con respecto al eje X del sistema de referencia es\", np.rad2deg(float(angulo_resultante)),\"grados\")"
   ]
  },
  {
   "cell_type": "code",
   "execution_count": 120,
   "id": "1e1ee5de",
   "metadata": {},
   "outputs": [
    {
     "name": "stdout",
     "output_type": "stream",
     "text": [
      "La proyeccion del vector a sobre el vector resultante es 1.72527667552181*N.x + 0.307088282004401*N.y\n",
      "La componente en X de esta proyección es 1.72527667552181\n",
      "La componente en Y de esta proyección es 0.307088282004401 \n",
      "\n",
      "La proyeccion del vector b sobre el vector resultante es 14.4224142154087*N.x + 2.56709805830196*N.y\n",
      "La componente en X de esta proyección es 14.4224142154087\n",
      "La componente en Y de esta proyección es 2.56709805830196 \n",
      "\n",
      "La proyeccion del vector c sobre el vector resultante es 25.5702929375854*N.x + 4.55134961247732*N.y\n",
      "La componente en X de esta proyección es 25.5702929375854\n",
      "La componente en Y de esta proyección es 4.55134961247732 \n",
      "\n"
     ]
    }
   ],
   "source": [
    "#c\n",
    "#Proyeccion de cada vector sobre el vector resultante\n",
    "vectores = [vector_a, vector_b,vector_c]\n",
    "for i in range(len(vectores)):\n",
    "    vector_i = vectores[i]\n",
    "    proyeccion_de_vi_en_v_resultante = (vector_i.dot(vector_resultante) / vector_resultante.magnitude()**2)*vector_resultante\n",
    "    print(\"La proyeccion del vector\",nombre_vectores[i],\"sobre el vector resultante es\",proyeccion_de_vi_en_v_resultante)\n",
    "    print(\"La componente en X de esta proyección es\",proyeccion_de_vi_en_v_resultante.dot(N.x))\n",
    "    print(\"La componente en Y de esta proyección es\", proyeccion_de_vi_en_v_resultante.dot(N.y), \"\\n\")\n"
   ]
  },
  {
   "cell_type": "markdown",
   "id": "84f7717b",
   "metadata": {},
   "source": [
    "-----------------------------------------------------------------PUNTO 3---------------------------------------------------------"
   ]
  },
  {
   "cell_type": "code",
   "execution_count": 52,
   "id": "5bef6dba",
   "metadata": {},
   "outputs": [
    {
     "name": "stdout",
     "output_type": "stream",
     "text": [
      "Vector V1 0.866025403784439*v1*N_3.x + 0.5*v1*N_3.y\n",
      "\n",
      "Vector V2 - 0.6*v2*N_3.x + 0.8*v2*N_3.y\n"
     ]
    }
   ],
   "source": [
    "#Definimos el marco de referencia\n",
    "N_3 = ReferenceFrame(\"N_3\")\n",
    "#magnitudes de los vectores\n",
    "magnitud_v1 = symbols(\"v1\")\n",
    "magnitud_v2 = symbols(\"v2\")\n",
    "\n",
    "#angulos de los vectores\n",
    "angulo_v1 = 30\n",
    "angulo_v2 =  180 - np.rad2deg(float(atan(4/3)))\n",
    "\n",
    "#crear componentes vectores\n",
    "v1x = magnitud_v1*cos(np.deg2rad(angulo_v1))\n",
    "v1y = magnitud_v1*sin(np.deg2rad(angulo_v1))\n",
    "\n",
    "v2x = magnitud_v2*cos(np.deg2rad(angulo_v2)) \n",
    "v2y = magnitud_v2*sin(np.deg2rad(angulo_v2))\n",
    "\n",
    "#escribir vectores\n",
    "v1 = v1x*N_3.x + v1y*N_3.y\n",
    "v2 = v2x*N_3.x + v2y*N_3.y\n",
    "\n",
    "print(\"Vector V1\", v1)\n",
    "print(\"\\nVector V2\", v2)\n"
   ]
  },
  {
   "cell_type": "code",
   "execution_count": 121,
   "id": "3fee9d1f",
   "metadata": {},
   "outputs": [
    {
     "name": "stdout",
     "output_type": "stream",
     "text": [
      "Vector V1+V2 (0.866025403784439*v1 - 0.6*v2)*N_3.x + (0.5*v1 + 0.8*v2)*N_3.y\n",
      "\n",
      "Vector V1-V2 (0.866025403784439*v1 + 0.6*v2)*N_3.x + (0.5*v1 - 0.8*v2)*N_3.y\n",
      "\n",
      "Vector V1xV2 0.992820323027551*v1*v2*N_3.z\n",
      "\n",
      "Escalar V1.V2 -0.119615242270663*v1*v2\n"
     ]
    }
   ],
   "source": [
    "#Suma\n",
    "vector_suma = v1+v2\n",
    "print(\"Vector V1+V2\", vector_suma)\n",
    "\n",
    "#Resta\n",
    "vector_resta = v1-v2\n",
    "print(\"\\nVector V1-V2\", vector_resta)\n",
    "\n",
    "#Cruz\n",
    "vector_cruz = v1.cross(v2)\n",
    "print(\"\\nVector V1xV2\", vector_cruz)\n",
    "\n",
    "#Suma\n",
    "escalar_punto = v1.dot(v2)\n",
    "print(\"\\nEscalar V1.V2\", escalar_punto)"
   ]
  },
  {
   "cell_type": "markdown",
   "id": "83f8034f",
   "metadata": {},
   "source": [
    "-----------------------------------------------------------------PUNTO 4 Opcion 1---------------------------------------------------------"
   ]
  },
  {
   "cell_type": "code",
   "execution_count": 76,
   "id": "e06e353c",
   "metadata": {},
   "outputs": [
    {
     "name": "stdout",
     "output_type": "stream",
     "text": [
      "La magnitud de la velocidad es  sqrt(((-1.0471975511966*l0 + 157.07963267949*t - 392.699081698724)*sin(1.0471975511966*t + theta0) - 150*cos(1.0471975511966*t + theta0))**2 + ((1.0471975511966*l0 - 157.07963267949*t + 392.699081698724)*cos(1.0471975511966*t + theta0) - 150*sin(1.0471975511966*t + theta0))**2)\n",
      "\n",
      "La magnitud de la aceleración es 314.159265358979*sqrt((0.00318309886183791*(-1.09662271123215*l0 + 164.493406684823*t - 411.233516712057)*sin(1.0471975511966*t + theta0) - cos(1.0471975511966*t + theta0))**2 + (0.00318309886183791*(-1.09662271123215*l0 + 164.493406684823*t - 411.233516712057)*cos(1.0471975511966*t + theta0) + sin(1.0471975511966*t + theta0))**2)\n",
      "\n",
      "Es decir:\n"
     ]
    }
   ],
   "source": [
    "#Plantear un sistema coordenado fijo\n",
    "N_fijo = ReferenceFrame(\"N_fi\")\n",
    "\n",
    "#Plantear un sistema de coordenadas movil\n",
    "t = symbols(\"t\")\n",
    "theta0, L0 = symbols(\"theta0 l0\")\n",
    "theta_punto = np.deg2rad(60)\n",
    "\n",
    "angulo = theta0 + theta_punto*t\n",
    "\n",
    "A = N_fijo.orientnew(\"A\",\"Axis\", (angulo, N_fijo.z)) #creamos un marco de referencia que rota con respecto a A\n",
    "A.set_ang_vel(N_fijo, theta_punto*N_fijo.z) #Le asignamos una velocidad angular constante a A\n",
    "\n",
    "#Crear otro marco de referencia B que se acerque a A y que se encuentre en la punta\n",
    "L = L0-150*t #cambia con el tiempo porque disminuye\n",
    "\n",
    "#Colocamos un punto\n",
    "O = Point(\"O\") #creamos un punto\n",
    "Punto_en_A = O.locatenew(\"Punto_en_A\", 0*N_fijo.x) #Colocamos el punto en el origen\n",
    "\n",
    "#Modelar un punto en B, como se encuentra a una distancia (no un angulo, los marco de referencia no estan a una distancia de otros), se debe usar punto\n",
    "Punto_en_B = Punto_en_A.locatenew(\"Punto_en_B\", (375+L)*A.x) #El punto B, la punta de todo, se encuentra a una distancia radial de 375+L del eje X de A\n",
    "\n",
    "#Agregar una velocidad\n",
    "Punto_en_B.set_vel(A, -150*A.x) #establecemos que la velocidad del punto B, con respecto al marco A es de -150\n",
    "\n",
    "#Volver al punto un vector\n",
    "vector_B = Punto_en_B.pos_from(O) #esto crea un vector desde el origen O hasta el punto B\n",
    "\n",
    "velocidad_vector_B = vector_B.diff(t, N_fijo)\n",
    "aceleracion_vector_B = velocidad_vector_B.diff(t,N_fijo)\n",
    "\n",
    "print(\"La magnitud de la velocidad es \", velocidad_vector_B.simplify().magnitude())\n",
    "print(\"\\nLa magnitud de la aceleración es\", aceleracion_vector_B.simplify().magnitude())\n",
    "\n",
    "print(\"\\nEs decir:\")\n",
    "\n"
   ]
  },
  {
   "cell_type": "code",
   "execution_count": null,
   "id": "78b4391a",
   "metadata": {},
   "outputs": [
    {
     "data": {
      "text/latex": [
       "$\\displaystyle \\sqrt{\\left(\\left(- 1.0471975511966 l_{0} + 157.07963267949 t - 392.699081698724\\right) \\sin{\\left(1.0471975511966 t + \\theta_{0} \\right)} - 150 \\cos{\\left(1.0471975511966 t + \\theta_{0} \\right)}\\right)^{2} + \\left(\\left(1.0471975511966 l_{0} - 157.07963267949 t + 392.699081698724\\right) \\cos{\\left(1.0471975511966 t + \\theta_{0} \\right)} - 150 \\sin{\\left(1.0471975511966 t + \\theta_{0} \\right)}\\right)^{2}}$"
      ],
      "text/plain": [
       "sqrt(((-1.0471975511966*l0 + 157.07963267949*t - 392.699081698724)*sin(1.0471975511966*t + theta0) - 150*cos(1.0471975511966*t + theta0))**2 + ((1.0471975511966*l0 - 157.07963267949*t + 392.699081698724)*cos(1.0471975511966*t + theta0) - 150*sin(1.0471975511966*t + theta0))**2)"
      ]
     },
     "execution_count": 123,
     "metadata": {},
     "output_type": "execute_result"
    }
   ],
   "source": [
    "velocidad_vector_B.simplify().magnitude()\n"
   ]
  },
  {
   "cell_type": "code",
   "execution_count": 78,
   "id": "71876148",
   "metadata": {},
   "outputs": [
    {
     "data": {
      "text/latex": [
       "$\\displaystyle 314.159265358979 \\sqrt{\\left(0.00318309886183791 \\left(- 1.09662271123215 l_{0} + 164.493406684823 t - 411.233516712057\\right) \\sin{\\left(1.0471975511966 t + \\theta_{0} \\right)} - \\cos{\\left(1.0471975511966 t + \\theta_{0} \\right)}\\right)^{2} + \\left(0.00318309886183791 \\left(- 1.09662271123215 l_{0} + 164.493406684823 t - 411.233516712057\\right) \\cos{\\left(1.0471975511966 t + \\theta_{0} \\right)} + \\sin{\\left(1.0471975511966 t + \\theta_{0} \\right)}\\right)^{2}}$"
      ],
      "text/plain": [
       "314.159265358979*sqrt((0.00318309886183791*(-1.09662271123215*l0 + 164.493406684823*t - 411.233516712057)*sin(1.0471975511966*t + theta0) - cos(1.0471975511966*t + theta0))**2 + (0.00318309886183791*(-1.09662271123215*l0 + 164.493406684823*t - 411.233516712057)*cos(1.0471975511966*t + theta0) + sin(1.0471975511966*t + theta0))**2)"
      ]
     },
     "execution_count": 78,
     "metadata": {},
     "output_type": "execute_result"
    }
   ],
   "source": [
    "aceleracion_vector_B.simplify().magnitude()\n"
   ]
  },
  {
   "cell_type": "markdown",
   "id": "82229905",
   "metadata": {},
   "source": [
    "-----------------------------------------------------------------PUNTO 4 Opcion 2---------------------------------------------------------"
   ]
  },
  {
   "cell_type": "code",
   "execution_count": null,
   "id": "fd3a33ba",
   "metadata": {},
   "outputs": [],
   "source": [
    "#Utilizando la version simplificada de la complementaria\n",
    "#variables\n",
    "theta2_0 = symbols(\"theta2_0\") #creamos al angulo simbolico\n",
    "theta2_punto = np.deg2rad(60) #creamos a theta punto\n",
    "t_2 = symbols(\"t_2\") #creamos el tiempo\n",
    "\n",
    "theta2 = theta2_0 + theta2_punto*t_2 #escribimos al angulo en verdad, el angulo + la diferencia\n",
    "l0_2 = symbols(\"l0_2\") #creamos a la longitud L simbolica\n",
    "l = l0_2 - 150*t_2 #creamos a la longitud L verdadera\n",
    "\n",
    "#marcos de referencia\n",
    "N_fijo_2 = ReferenceFrame(\"N_fijo_2\")\n",
    "A_movil_2 = N_fijo_2.orientnew(\"A_movil_2\", \"Axis\", (theta2, N_fijo_2.z))\n",
    "\n",
    "#Crear al vector posicion\n",
    "vector_pos = (375+l)*A_movil_2.x #creamos al vector de posicion cuya unica coordenada es radial\n",
    "\n",
    "velocidad_vector_pos = vector_pos.diff(t_2,N_fijo_2)\n",
    "aceleracion_vector_pos = velocidad_vector_pos.diff(t_2, N_fijo_2)\n"
   ]
  },
  {
   "cell_type": "code",
   "execution_count": 112,
   "id": "0e912cc4",
   "metadata": {},
   "outputs": [
    {
     "data": {
      "text/latex": [
       "$\\displaystyle \\sqrt{\\left(\\left(- 1.0471975511966 l_{0 2} + 157.07963267949 t_{2} - 392.699081698724\\right) \\sin{\\left(1.0471975511966 t_{2} + \\theta_{2 0} \\right)} - 150 \\cos{\\left(1.0471975511966 t_{2} + \\theta_{2 0} \\right)}\\right)^{2} + \\left(\\left(1.0471975511966 l_{0 2} - 157.07963267949 t_{2} + 392.699081698724\\right) \\cos{\\left(1.0471975511966 t_{2} + \\theta_{2 0} \\right)} - 150 \\sin{\\left(1.0471975511966 t_{2} + \\theta_{2 0} \\right)}\\right)^{2}}$"
      ],
      "text/plain": [
       "sqrt(((-1.0471975511966*l0_2 + 157.07963267949*t_2 - 392.699081698724)*sin(1.0471975511966*t_2 + theta2_0) - 150*cos(1.0471975511966*t_2 + theta2_0))**2 + ((1.0471975511966*l0_2 - 157.07963267949*t_2 + 392.699081698724)*cos(1.0471975511966*t_2 + theta2_0) - 150*sin(1.0471975511966*t_2 + theta2_0))**2)"
      ]
     },
     "execution_count": 112,
     "metadata": {},
     "output_type": "execute_result"
    }
   ],
   "source": [
    "velocidad_vector_pos.simplify().magnitude()"
   ]
  },
  {
   "cell_type": "code",
   "execution_count": 95,
   "id": "2540cb08",
   "metadata": {},
   "outputs": [
    {
     "data": {
      "text/latex": [
       "$\\displaystyle 314.159265358979 \\sqrt{\\left(0.00318309886183791 \\left(- 1.09662271123215 l_{0 2} + 164.493406684823 t_{2} - 411.233516712057\\right) \\sin{\\left(1.0471975511966 t_{2} + \\theta_{2 0} \\right)} - \\cos{\\left(1.0471975511966 t_{2} + \\theta_{2 0} \\right)}\\right)^{2} + \\left(0.00318309886183791 \\left(- 1.09662271123215 l_{0 2} + 164.493406684823 t_{2} - 411.233516712057\\right) \\cos{\\left(1.0471975511966 t_{2} + \\theta_{2 0} \\right)} + \\sin{\\left(1.0471975511966 t_{2} + \\theta_{2 0} \\right)}\\right)^{2}}$"
      ],
      "text/plain": [
       "314.159265358979*sqrt((0.00318309886183791*(-1.09662271123215*l0_2 + 164.493406684823*t_2 - 411.233516712057)*sin(1.0471975511966*t_2 + theta2_0) - cos(1.0471975511966*t_2 + theta2_0))**2 + (0.00318309886183791*(-1.09662271123215*l0_2 + 164.493406684823*t_2 - 411.233516712057)*cos(1.0471975511966*t_2 + theta2_0) + sin(1.0471975511966*t_2 + theta2_0))**2)"
      ]
     },
     "execution_count": 95,
     "metadata": {},
     "output_type": "execute_result"
    }
   ],
   "source": [
    "aceleracion_vector_pos.simplify().magnitude()"
   ]
  },
  {
   "cell_type": "code",
   "execution_count": null,
   "id": "34405c40",
   "metadata": {},
   "outputs": [
    {
     "name": "stdout",
     "output_type": "stream",
     "text": [
      "La magnitud de la velocidad es 3275.92829048141\n"
     ]
    }
   ],
   "source": [
    "#Realizar pruebas de valores\n",
    "angulo_inicial = 60 #este valor no afecta el calculo de la velocidad\n",
    "longitud_l = 1000 #este es la inicial, sí afecta la velocidad\n",
    "tiempo = 30 #sí afecta la velocidad\n",
    "velocidad_calculada = velocidad_vector_pos.subs({theta2_0:np.deg2rad(angulo_inicial),l0_2: longitud_l, t_2:tiempo, Derivative(theha):0}).magnitude().simplify()\n",
    "print(\"La magnitud de la velocidad es\", velocidad_calculada)"
   ]
  },
  {
   "cell_type": "code",
   "execution_count": 109,
   "id": "913e1ae6",
   "metadata": {},
   "outputs": [
    {
     "name": "stdout",
     "output_type": "stream",
     "text": [
      "La magnitud de la aceleracion es 3441.31584472182\n"
     ]
    }
   ],
   "source": [
    "#Realizar pruebas de valores\n",
    "angulo_inicial = 60 #este valor no afecta el calculo de la velocidad\n",
    "longitud_l = 1000 #este es la inicial, sí afecta la velocidad\n",
    "tiempo = 30 #sí afecta la velocidad\n",
    "aceleracion_calculada = aceleracion_vector_pos.subs({theta2_0:np.deg2rad(angulo_inicial),l0_2: longitud_l, t_2:tiempo}).magnitude().simplify()\n",
    "print(\"La magnitud de la aceleracion es\", aceleracion_calculada)"
   ]
  }
 ],
 "metadata": {
  "kernelspec": {
   "display_name": "Python 3",
   "language": "python",
   "name": "python3"
  },
  "language_info": {
   "codemirror_mode": {
    "name": "ipython",
    "version": 3
   },
   "file_extension": ".py",
   "mimetype": "text/x-python",
   "name": "python",
   "nbconvert_exporter": "python",
   "pygments_lexer": "ipython3",
   "version": "3.13.1"
  }
 },
 "nbformat": 4,
 "nbformat_minor": 5
}
