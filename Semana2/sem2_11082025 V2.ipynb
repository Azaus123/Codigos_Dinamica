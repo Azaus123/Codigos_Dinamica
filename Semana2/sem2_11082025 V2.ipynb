{
 "cells": [
  {
   "cell_type": "markdown",
   "metadata": {},
   "source": [
    "<table width=\"100%\" style=\"border: none; border-collapse: collapse;\">\n",
    "  <tr>\n",
    "    <td style=\"vertical-align: middle; padding: 10px;\">\n",
    "      <h1 style=\"margin: 0; font-size: 1.5em;\">Guía Semana No. 2</h1>\n",
    "    </td>\n",
    "    <td style=\"text-align: right; vertical-align: middle; padding: 10px;\">\n",
    "      <img src=\"resources_5082025/University_of_Los_Andes_logo.png\" width=\"120\" alt=\"Logo Universidad de los Andes\" />\n",
    "    </td>\n",
    "  </tr>\n",
    "</table>\n",
    "<hr>\n",
    "\n",
    "Esta guía forma parte del trabajo de la segunda semana del curso y tiene como objetivo introducir herramientas simbólicas y numéricas para la modelación y análisis de sistemas mecánicos.\n",
    "\n",
    "El contenido está organizado para abordar:\n",
    "\n",
    "1. **Marcos de referencia simbólicos con SymPy Mechanics**: cómo definir sistemas de coordenadas móviles e inerciales y cómo describir posiciones y orientaciones de forma simbólica.\n",
    "2. **Cinemática directa e inversa de robots planos 2R**: formulación matemática y obtención de soluciones analíticas y numéricas.\n",
    "\n",
    "A lo largo de los ejercicios, se utilizarán librerías de Python para trabajar con álgebra simbólica, animaciones y visualización de resultados."
   ]
  },
  {
   "cell_type": "markdown",
   "metadata": {},
   "source": [
    "## Importación de librerías necesarias\n",
    "\n",
    "Se importan las librerías que se utilizarán en la guía:\n",
    "\n",
    "- **NumPy**: operaciones matemáticas y matriciales numéricas.\n",
    "- **Matplotlib**: para realizar gráficas y animaciones.\n",
    "- **SymPy**: para cálculos simbólicos y álgebra matemática.\n",
    "- **SymPy Physics Mechanics**: para trabajar con conceptos de mecánica como puntos, vectores y marcos de referencia.\n",
    "\n",
    "También se habilita la impresión de expresiones matemáticas usando LaTeX para mejorar la legibilidad."
   ]
  },
  {
   "cell_type": "code",
   "execution_count": 3,
   "metadata": {},
   "outputs": [],
   "source": [
    "import numpy as np\n",
    "import matplotlib.pyplot as plt\n",
    "from matplotlib.animation import FuncAnimation\n",
    "from sympy import symbols, Matrix, pi, cos, sin, simplify, eye, solve, latex, atan2, pprint, init_printing, Derivative, sqrt\n",
    "from sympy.physics.mechanics import ReferenceFrame, dynamicsymbols, init_vprinting, Point\n",
    "\n",
    "# Configuración de impresión en formato LaTeX (MathJax)\n",
    "init_vprinting(use_latex='mathjax')"
   ]
  },
  {
   "cell_type": "markdown",
   "metadata": {},
   "source": [
    "## Definición de variables simbólicas y marcos de referencia\n",
    "\n",
    "En esta sección se definen:\n",
    "\n",
    "- Variables escalares constantes y dependientes del tiempo.\n",
    "- Marcos de referencia:\n",
    "  - `N`: marco inercial (fijo en el espacio).\n",
    "  - `A`: marco rotado respecto a `N` alrededor del eje Z.\n",
    "\n",
    "Esto servirá como base para describir movimientos y orientaciones de cuerpos rígidos."
   ]
  },
  {
   "cell_type": "code",
   "execution_count": 6,
   "metadata": {},
   "outputs": [
    {
     "name": "stdout",
     "output_type": "stream",
     "text": [
      "\n",
      " Posicion del efector final:\n",
      "(l₁(t)⋅cos(θ₁(t)) + l₂(t)⋅cos(θ₁(t) + θ₂(t))) n_x + (l₁(t)⋅sin(θ₁(t)) + l₂(t)⋅ ↪\n",
      "\n",
      "↪ sin(θ₁(t) + θ₂(t))) n_y\n",
      "(1.41421356237310, 1.414213562373095)\n"
     ]
    }
   ],
   "source": [
    "# Variables constantes y dependientes del tiempo\n",
    "t, l_0 = symbols('t l_0')\n",
    "l1, l2 = dynamicsymbols('l1 l2')\n",
    "theta1, theta2 = dynamicsymbols('theta1 theta2') #q1 y q2, angulos\n",
    "\n",
    "# Definición de marcos de referencia\n",
    "N = ReferenceFrame(\"N\") #sistema de referencial global, lo ponemos en el origen del primer joint\n",
    "A = N.orientnew(\"A\", \"Axis\", [theta1, N.z])#Definimos nuestro sistema A, que se encuentra en el segundo joint, este esta rotando con respecto a N\n",
    "B = A.orientnew(\"B\", \"Axis\", [theta2, A.z]) #Definimos nuestro sistema B, que se encuentra en el tercer joint, este esta rotando con respecto a A\n",
    "\n",
    "#Si se multiplica la matriz de A con respecto a N, y otra matriz de B con respecto a A,\n",
    "#puedo hallar la matriz de B con respecto a N\n",
    "\n",
    "#Queremos saber la posición de un punto\n",
    "O = Point('O') #origen del sistema de referencia N\n",
    "P1 = O.locatenew('P1', l1 * A.x) #Punto P1 en el sistema de referencia N , AX vector unitario de A, en este punto es donde se encuentra el segundo joint\n",
    "P2 = P1.locatenew('P2', l2 * B.x) #Punto P2 en el sistema de referencia N, este es el punto donde se encuentra el tercer joint\n",
    "\n",
    "efector_final_pos = P2.pos_from(O).express(N).simplify() #toma a P2, lo toma desde el origen O, lo expresa con respecto a N y lo simplifica\n",
    "print(\"\\n Posicion del efector final:\")\n",
    "pprint(efector_final_pos) #esto es la posicion final, expresada con respecto a N,\n",
    "\n",
    "def cinematica_directa(theta1_val, theta2_val, l1_val, l2_val): #poner los numeros que vamos a utilizar, aqui ya deja de ser simbolico\n",
    "    subs_dict = {\n",
    "        theta1: np.deg2rad(theta1_val),\n",
    "        theta2:  np.deg2rad(theta2_val),\n",
    "        l1: l1_val,\n",
    "        l2: l2_val\n",
    "    }\n",
    "    pos = efector_final_pos.subs(subs_dict) #utilizamos la funcion subtituir y se lo mandamos al efector, lista con numeros, [x,y]\n",
    "    #lo que estamos haciendo aqui es dado los angulos (el segundo relativo al primero) y los valores de las longitudes, hallamos la posicion final en la que queda el brazo\n",
    "    return (pos.dot(N.x), float(pos.dot(N.y))) #lo pone en terminos del sistema coordenado, para expresarlo vectorialmente\n",
    "print(cinematica_directa(45, 0, 1, 1))"
   ]
  },
  {
   "cell_type": "markdown",
   "metadata": {},
   "source": [
    "## Ejercicio No. 1: Independencia lineal y análisis en el tiempo ejercicio No. 4\n",
    "\n",
    "Objetivo:\n",
    "\n",
    "1. Crear una función que reciba el tiempo y calcule las aceleraciónes y velocidades para poder obtener la cinemática."
   ]
  },
  {
   "cell_type": "markdown",
   "metadata": {},
   "source": [
    "## Ejercicio No. 2: Cinemática directa de un robot planar 2R\n",
    "\n",
    "En este ejercicio se modela un robot plano con dos articulaciones rotacionales (2R) usando SymPy Mechanics.\n",
    "\n",
    "Pasos:\n",
    "1. Definir marcos de referencia para cada articulación.\n",
    "2. Establecer la posición de los puntos relevantes (origen, articulaciones y efector final).\n",
    "3. Calcular la posición del efector respecto al marco inercial `N`.\n",
    "4. Evaluar la posición para un conjunto de valores numéricos.\n",
    "\n",
    "Este resultado servirá de base para el cálculo de la cinemática inversa."
   ]
  },
  {
   "cell_type": "code",
   "execution_count": null,
   "metadata": {},
   "outputs": [],
   "source": [
    "import sympy as sp\n",
    "from sympy.physics.mechanics import ReferenceFrame, Point, dynamicsymbols, mechanics_printing\n",
    "\n",
    "# Habilitar impresión simbólica sin formato bonito (para depuración)\n",
    "mechanics_printing(pretty_print=False)\n",
    "\n",
    "# Variables simbólicas\n",
    "theta1, theta2 = dynamicsymbols('theta1 theta2')\n",
    "L1, L2 = sp.symbols('L1 L2')\n",
    "\n",
    "# Marcos de referencia\n",
    "N = ReferenceFrame('N')\n",
    "A = N.orientnew('A', 'Axis', [theta1, N.z])\n",
    "B = A.orientnew('B', 'Axis', [theta2, A.z])\n",
    "\n",
    "# Puntos relevantes\n",
    "O = Point('O')\n",
    "P1 = O.locatenew('P1', L1 * A.x)\n",
    "P2 = P1.locatenew('P2', L2 * B.x)\n",
    "\n",
    "# Vector de posición del efector\n",
    "vector_pos_efector = P2.pos_from(O).express(N).simplify()\n",
    "print(\"\\nVector de posición del efector (en marco N):\")\n",
    "sp.pprint(vector_pos_efector)\n",
    "\n",
    "# Evaluación numérica de ejemplo\n",
    "valores = {\n",
    "    theta1: sp.rad(45),\n",
    "    theta2: sp.rad(30),\n",
    "    L1: 5,\n",
    "    L2: 3\n",
    "}\n",
    "\n",
    "vector_numerico = vector_pos_efector.subs(valores).evalf()\n",
    "x = vector_numerico.dot(N.x)\n",
    "y = vector_numerico.dot(N.y)\n",
    "print(f\"\\nPosición numérica del efector:\\nx = {x:.4f}\\ny = {y:.4f}\")"
   ]
  },
  {
   "cell_type": "markdown",
   "metadata": {},
   "source": [
    "## Ejercicio No. 3: Mecanismo Slider-Crank\n",
    "\n",
    "Objetivos:\n",
    "- Graficar la posición, velocidad y aceleración del mecanismo tipo biela-manivela (slider-crank) a lo largo del tiempo.\n",
    "- Adicionalmente, graficar la fuerza generada en función de la geometría del mecanismo.\n",
    "\n",
    "Este ejercicio combina análisis cinemático con análisis dinámico."
   ]
  },
  {
   "cell_type": "markdown",
   "metadata": {},
   "source": [
    "## Ejercicio No. 4: Análisis cinemático avanzado\n",
    "\n",
    "Trabajando a partir del Ejercicio 2, se pide:\n",
    "- Graficar la posición y velocidad del \"pin\" en el marco B.\n",
    "- Graficar las velocidades y aceleraciones del \"pin\" en el marco A.\n",
    "\n",
    "Este ejercicio permite profundizar en el cálculo de derivadas vectoriales y en la interpretación de magnitudes en distintos marcos de referencia."
   ]
  }
 ],
 "metadata": {
  "kernelspec": {
   "display_name": "Python 3",
   "language": "python",
   "name": "python3"
  },
  "language_info": {
   "codemirror_mode": {
    "name": "ipython",
    "version": 3
   },
   "file_extension": ".py",
   "mimetype": "text/x-python",
   "name": "python",
   "nbconvert_exporter": "python",
   "pygments_lexer": "ipython3",
   "version": "3.13.1"
  }
 },
 "nbformat": 4,
 "nbformat_minor": 2
}
